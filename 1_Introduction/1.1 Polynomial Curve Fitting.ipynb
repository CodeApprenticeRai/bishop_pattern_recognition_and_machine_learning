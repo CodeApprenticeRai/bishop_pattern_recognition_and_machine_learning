{
 "cells": [
  {
   "cell_type": "code",
   "execution_count": 3,
   "metadata": {},
   "outputs": [],
   "source": [
    "import numpy as np\n",
    "import matplotlib.pyplot as plt\n",
    "import math # for math.pi"
   ]
  },
  {
   "cell_type": "code",
   "execution_count": 4,
   "metadata": {},
   "outputs": [],
   "source": [
    "# underlying function == sin( 2*pi*x)\n",
    "def f(x):\n",
    "    return numpy.sin( 2 * math.pi * x )\n",
    "\n",
    "# We want to fit function using polynomial of form w_0 + w1*x  + w_2*x^2 + .. w_M*x^M\n",
    "\n",
    "\n"
   ]
  },
  {
   "cell_type": "markdown",
   "metadata": {},
   "source": [
    "\n",
    "For each (input, output) pair I want to minimize the difference between my guessing function output and the true function output. \n",
    "\n",
    "I would minimize this difference by: \n",
    "    1. Calcuating the absolute value of the difference between the true function and my approximating function for a set of weights. \n",
    "    2. Calculate the the absolute value of the difference between the true function and my approximating function with the weights changed "
   ]
  }
 ],
 "metadata": {
  "kernelspec": {
   "display_name": "Python 3",
   "language": "python",
   "name": "python3"
  },
  "language_info": {
   "codemirror_mode": {
    "name": "ipython",
    "version": 3
   },
   "file_extension": ".py",
   "mimetype": "text/x-python",
   "name": "python",
   "nbconvert_exporter": "python",
   "pygments_lexer": "ipython3",
   "version": "3.6.8"
  }
 },
 "nbformat": 4,
 "nbformat_minor": 2
}
