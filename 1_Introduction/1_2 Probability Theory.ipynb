{
 "cells": [
  {
   "cell_type": "markdown",
   "metadata": {},
   "source": [
    "if we have a red and a blue blox. \n",
    "\n",
    "p( B = r ) = 4/10 \n",
    "p( B = b ) = 6/10 \n",
    "\n",
    "Red box has 2 green balls, 6 orange balls. \n",
    "Blue box has 3 green and 1 orange.\n",
    "\n",
    "What is the overall probabilty that we select green? \n",
    "What is the overall probability we select orange? \n",
    "\n",
    "It is the probability that select the red box, times the probabilty we select green from the red box,\n",
    "plus\n",
    "the probabilty we select the blue box, times the probabilty we select green from the blue box. \n",
    "\n",
    "The probabilty of select a certain color ball from a box is the total number of balls of the favorable color divided by the total number of ball in the box. \n",
    "\n"
   ]
  },
  {
   "cell_type": "code",
   "execution_count": 1,
   "metadata": {},
   "outputs": [
    {
     "name": "stdout",
     "output_type": "stream",
     "text": [
      "0.6 0.41666666666666663\n"
     ]
    }
   ],
   "source": [
    "pr= 4/10\n",
    "pb = 6/10\n",
    "\n",
    "prg = 3/8\n",
    "pbg = 3/4\n",
    "\n",
    "pro = 6/9\n",
    "pbo = 1/4\n",
    "\n",
    "pg = pr*prg + pb*pbg\n",
    "po = pr*pro + pb*pbo\n",
    "\n",
    "print( pg, po)"
   ]
  },
  {
   "cell_type": "markdown",
   "metadata": {},
   "source": [
    "Statistics"
   ]
  },
  {
   "cell_type": "markdown",
   "metadata": {},
   "source": [
    "The probabilty that a random variable X will take a value x_i, \n",
    "and a random variable Y will take a take the value y_j is called the join probability of X = x_i and Y = y_j. \n",
    "\n",
    "p( X=x_j, Y=y_j) = n_ij / N\n",
    "\n",
    "This is cool / insightful because it basically says that we have a set of trials where in each trial X takes some value x_i and Y takes some value y_j, the probability for a particular x_i, y_j pairing is the number of times the pairing occurs divided by the total number of trials.\n"
   ]
  }
 ],
 "metadata": {
  "kernelspec": {
   "display_name": "Python 3",
   "language": "python",
   "name": "python3"
  },
  "language_info": {
   "codemirror_mode": {
    "name": "ipython",
    "version": 3
   },
   "file_extension": ".py",
   "mimetype": "text/x-python",
   "name": "python",
   "nbconvert_exporter": "python",
   "pygments_lexer": "ipython3",
   "version": "3.6.8"
  }
 },
 "nbformat": 4,
 "nbformat_minor": 2
}
